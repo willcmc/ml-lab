{
 "cells": [
  {
   "cell_type": "markdown",
   "metadata": {
    "id": "fDQl10MUj4wT"
   },
   "source": [
    "# **LAB 25-08-2021**"
   ]
  },
  {
   "cell_type": "markdown",
   "metadata": {
    "id": "GK5sdHz5OZp7"
   },
   "source": [
    "In this tutorial, we will be continuing with data preprocessing and we will move on to the second topic -> Data Transformation"
   ]
  },
  {
   "cell_type": "markdown",
   "metadata": {
    "id": "XQTEWiI-kkf-"
   },
   "source": [
    "We will be working on the dataset named 'Tutorial3' which is attached to the file."
   ]
  },
  {
   "cell_type": "code",
   "execution_count": null,
   "metadata": {
    "id": "3oNlX_c_II8V"
   },
   "outputs": [],
   "source": [
    "import pandas as pd\n",
    "import matplotlib.pyplot as plt"
   ]
  },
  {
   "cell_type": "code",
   "execution_count": null,
   "metadata": {
    "id": "VakH8YCyIeSa"
   },
   "outputs": [],
   "source": [
    "df = pd.read_csv('tutorial3.csv', encoding = 'unicode_escape')"
   ]
  },
  {
   "cell_type": "code",
   "execution_count": null,
   "metadata": {
    "colab": {
     "base_uri": "https://localhost:8080/",
     "height": 195
    },
    "executionInfo": {
     "elapsed": 1021,
     "status": "ok",
     "timestamp": 1589881987396,
     "user": {
      "displayName": "Shammi Agarwal",
      "photoUrl": "https://lh3.googleusercontent.com/a-/AOh14GgbHOgxZTNv5x7BIQisE6DnR_zfW5EZxBTc4f0gWA=s64",
      "userId": "01723134255060233529"
     },
     "user_tz": -330
    },
    "id": "I67OmNMqMtBl",
    "outputId": "55bc0080-4f86-41f3-97c6-294042ff8918"
   },
   "outputs": [
    {
     "data": {
      "text/html": [
       "<div>\n",
       "<style scoped>\n",
       "    .dataframe tbody tr th:only-of-type {\n",
       "        vertical-align: middle;\n",
       "    }\n",
       "\n",
       "    .dataframe tbody tr th {\n",
       "        vertical-align: top;\n",
       "    }\n",
       "\n",
       "    .dataframe thead th {\n",
       "        text-align: right;\n",
       "    }\n",
       "</style>\n",
       "<table border=\"1\" class=\"dataframe\">\n",
       "  <thead>\n",
       "    <tr style=\"text-align: right;\">\n",
       "      <th></th>\n",
       "      <th>feat1</th>\n",
       "      <th>feat2</th>\n",
       "      <th>feat3</th>\n",
       "      <th>feat4</th>\n",
       "      <th>Output</th>\n",
       "    </tr>\n",
       "  </thead>\n",
       "  <tbody>\n",
       "    <tr>\n",
       "      <th>0</th>\n",
       "      <td>103.492233</td>\n",
       "      <td>11.178533</td>\n",
       "      <td>1177.929685</td>\n",
       "      <td>E</td>\n",
       "      <td>-33.738798</td>\n",
       "    </tr>\n",
       "    <tr>\n",
       "      <th>1</th>\n",
       "      <td>105.583257</td>\n",
       "      <td>11.271211</td>\n",
       "      <td>1167.340693</td>\n",
       "      <td>E</td>\n",
       "      <td>-20.015269</td>\n",
       "    </tr>\n",
       "    <tr>\n",
       "      <th>2</th>\n",
       "      <td>102.362544</td>\n",
       "      <td>11.022370</td>\n",
       "      <td>1152.274100</td>\n",
       "      <td>D</td>\n",
       "      <td>-121.200909</td>\n",
       "    </tr>\n",
       "    <tr>\n",
       "      <th>3</th>\n",
       "      <td>104.179562</td>\n",
       "      <td>11.168655</td>\n",
       "      <td>1205.196633</td>\n",
       "      <td>D</td>\n",
       "      <td>-17.665275</td>\n",
       "    </tr>\n",
       "    <tr>\n",
       "      <th>4</th>\n",
       "      <td>107.748840</td>\n",
       "      <td>11.263845</td>\n",
       "      <td>1213.642301</td>\n",
       "      <td>D</td>\n",
       "      <td>29.058837</td>\n",
       "    </tr>\n",
       "    <tr>\n",
       "      <th>5</th>\n",
       "      <td>108.920010</td>\n",
       "      <td>11.223550</td>\n",
       "      <td>1135.545700</td>\n",
       "      <td>G</td>\n",
       "      <td>-21.635042</td>\n",
       "    </tr>\n",
       "    <tr>\n",
       "      <th>6</th>\n",
       "      <td>104.300347</td>\n",
       "      <td>11.447954</td>\n",
       "      <td>1327.340492</td>\n",
       "      <td>E</td>\n",
       "      <td>205.902826</td>\n",
       "    </tr>\n",
       "    <tr>\n",
       "      <th>7</th>\n",
       "      <td>106.874841</td>\n",
       "      <td>10.907883</td>\n",
       "      <td>1223.350902</td>\n",
       "      <td>E</td>\n",
       "      <td>-11.400533</td>\n",
       "    </tr>\n",
       "    <tr>\n",
       "      <th>8</th>\n",
       "      <td>104.119113</td>\n",
       "      <td>10.671402</td>\n",
       "      <td>1172.109662</td>\n",
       "      <td>E</td>\n",
       "      <td>-143.765921</td>\n",
       "    </tr>\n",
       "    <tr>\n",
       "      <th>9</th>\n",
       "      <td>102.896386</td>\n",
       "      <td>10.627526</td>\n",
       "      <td>1275.573816</td>\n",
       "      <td>G</td>\n",
       "      <td>12.346511</td>\n",
       "    </tr>\n",
       "  </tbody>\n",
       "</table>\n",
       "</div>"
      ],
      "text/plain": [
       "        feat1      feat2        feat3 feat4      Output\n",
       "0  103.492233  11.178533  1177.929685     E  -33.738798\n",
       "1  105.583257  11.271211  1167.340693     E  -20.015269\n",
       "2  102.362544  11.022370  1152.274100     D -121.200909\n",
       "3  104.179562  11.168655  1205.196633     D  -17.665275\n",
       "4  107.748840  11.263845  1213.642301     D   29.058837\n",
       "5  108.920010  11.223550  1135.545700     G  -21.635042\n",
       "6  104.300347  11.447954  1327.340492     E  205.902826\n",
       "7  106.874841  10.907883  1223.350902     E  -11.400533\n",
       "8  104.119113  10.671402  1172.109662     E -143.765921\n",
       "9  102.896386  10.627526  1275.573816     G   12.346511"
      ]
     },
     "execution_count": 5,
     "metadata": {},
     "output_type": "execute_result"
    }
   ],
   "source": [
    "df.head(10)"
   ]
  },
  {
   "cell_type": "markdown",
   "metadata": {
    "id": "oC0t-GycW4If"
   },
   "source": [
    "This is the  dataset we will work with.\n",
    "\n",
    "\n",
    "\n",
    "---\n",
    "\n",
    "\n",
    "\n",
    "---\n",
    "\n"
   ]
  },
  {
   "cell_type": "markdown",
   "metadata": {
    "id": "JkHCOavT0mhc"
   },
   "source": [
    "# DATA TRANSFORMATION"
   ]
  },
  {
   "cell_type": "markdown",
   "metadata": {
    "id": "dMBjd42hYaZY"
   },
   "source": [
    "After data cleaning is complete, we move on to the next step of data preprocessing. It is data transformation. We start converting the raw data obtained from the dataset into more useful and efficient form."
   ]
  },
  {
   "cell_type": "markdown",
   "metadata": {
    "id": "WQliIde4leHB"
   },
   "source": [
    "# NORMALIZATION"
   ]
  },
  {
   "cell_type": "markdown",
   "metadata": {
    "id": "s1fHOpUqWy-t"
   },
   "source": [
    "If we observe the dataset we are working with today, we will see that 3 features are of integer type and 1 of them is of character type.\n",
    "\n",
    "Whenever we get a new dataset, our first objective should be to check the description and the size of the dataset."
   ]
  },
  {
   "cell_type": "code",
   "execution_count": null,
   "metadata": {
    "colab": {
     "base_uri": "https://localhost:8080/",
     "height": 34
    },
    "executionInfo": {
     "elapsed": 1126,
     "status": "ok",
     "timestamp": 1589882250836,
     "user": {
      "displayName": "Shammi Agarwal",
      "photoUrl": "https://lh3.googleusercontent.com/a-/AOh14GgbHOgxZTNv5x7BIQisE6DnR_zfW5EZxBTc4f0gWA=s64",
      "userId": "01723134255060233529"
     },
     "user_tz": -330
    },
    "id": "T1dvyegWXb45",
    "outputId": "39b3f75a-e76f-4b85-d8f0-8235d206007f"
   },
   "outputs": [
    {
     "data": {
      "text/plain": [
       "(500, 5)"
      ]
     },
     "execution_count": 10,
     "metadata": {
      "tags": []
     },
     "output_type": "execute_result"
    }
   ],
   "source": [
    "df.shape"
   ]
  },
  {
   "cell_type": "code",
   "execution_count": null,
   "metadata": {
    "colab": {
     "base_uri": "https://localhost:8080/",
     "height": 284
    },
    "executionInfo": {
     "elapsed": 1191,
     "status": "ok",
     "timestamp": 1589882260322,
     "user": {
      "displayName": "Shammi Agarwal",
      "photoUrl": "https://lh3.googleusercontent.com/a-/AOh14GgbHOgxZTNv5x7BIQisE6DnR_zfW5EZxBTc4f0gWA=s64",
      "userId": "01723134255060233529"
     },
     "user_tz": -330
    },
    "id": "bGvpRC9IXe6B",
    "outputId": "fcb270de-7a91-492a-ba06-bb04e3c59406"
   },
   "outputs": [
    {
     "data": {
      "text/html": [
       "<div>\n",
       "<style scoped>\n",
       "    .dataframe tbody tr th:only-of-type {\n",
       "        vertical-align: middle;\n",
       "    }\n",
       "\n",
       "    .dataframe tbody tr th {\n",
       "        vertical-align: top;\n",
       "    }\n",
       "\n",
       "    .dataframe thead th {\n",
       "        text-align: right;\n",
       "    }\n",
       "</style>\n",
       "<table border=\"1\" class=\"dataframe\">\n",
       "  <thead>\n",
       "    <tr style=\"text-align: right;\">\n",
       "      <th></th>\n",
       "      <th>feat1</th>\n",
       "      <th>feat2</th>\n",
       "      <th>feat3</th>\n",
       "      <th>Output</th>\n",
       "    </tr>\n",
       "  </thead>\n",
       "  <tbody>\n",
       "    <tr>\n",
       "      <th>count</th>\n",
       "      <td>500.000000</td>\n",
       "      <td>500.000000</td>\n",
       "      <td>500.000000</td>\n",
       "      <td>500.000000</td>\n",
       "    </tr>\n",
       "    <tr>\n",
       "      <th>mean</th>\n",
       "      <td>105.032854</td>\n",
       "      <td>10.952021</td>\n",
       "      <td>1241.186038</td>\n",
       "      <td>0.166738</td>\n",
       "    </tr>\n",
       "    <tr>\n",
       "      <th>std</th>\n",
       "      <td>1.771904</td>\n",
       "      <td>0.339066</td>\n",
       "      <td>76.437957</td>\n",
       "      <td>117.199198</td>\n",
       "    </tr>\n",
       "    <tr>\n",
       "      <th>min</th>\n",
       "      <td>100.000000</td>\n",
       "      <td>10.000000</td>\n",
       "      <td>1000.000000</td>\n",
       "      <td>-403.693521</td>\n",
       "    </tr>\n",
       "    <tr>\n",
       "      <th>25%</th>\n",
       "      <td>103.835309</td>\n",
       "      <td>10.694112</td>\n",
       "      <td>1190.368415</td>\n",
       "      <td>-74.842437</td>\n",
       "    </tr>\n",
       "    <tr>\n",
       "      <th>50%</th>\n",
       "      <td>105.039326</td>\n",
       "      <td>10.987295</td>\n",
       "      <td>1240.385493</td>\n",
       "      <td>-4.272663</td>\n",
       "    </tr>\n",
       "    <tr>\n",
       "      <th>75%</th>\n",
       "      <td>106.349374</td>\n",
       "      <td>11.185465</td>\n",
       "      <td>1292.071193</td>\n",
       "      <td>73.447639</td>\n",
       "    </tr>\n",
       "    <tr>\n",
       "      <th>max</th>\n",
       "      <td>110.000000</td>\n",
       "      <td>12.000000</td>\n",
       "      <td>1500.000000</td>\n",
       "      <td>377.698893</td>\n",
       "    </tr>\n",
       "  </tbody>\n",
       "</table>\n",
       "</div>"
      ],
      "text/plain": [
       "            feat1       feat2        feat3      Output\n",
       "count  500.000000  500.000000   500.000000  500.000000\n",
       "mean   105.032854   10.952021  1241.186038    0.166738\n",
       "std      1.771904    0.339066    76.437957  117.199198\n",
       "min    100.000000   10.000000  1000.000000 -403.693521\n",
       "25%    103.835309   10.694112  1190.368415  -74.842437\n",
       "50%    105.039326   10.987295  1240.385493   -4.272663\n",
       "75%    106.349374   11.185465  1292.071193   73.447639\n",
       "max    110.000000   12.000000  1500.000000  377.698893"
      ]
     },
     "execution_count": 11,
     "metadata": {
      "tags": []
     },
     "output_type": "execute_result"
    }
   ],
   "source": [
    "df.describe()"
   ]
  },
  {
   "cell_type": "markdown",
   "metadata": {
    "id": "QHoseyVGXkMl"
   },
   "source": [
    "I have purposely chosen a dataset with no NaN values to only focus on the data transformation part.\n",
    "\n",
    "Let us take a closer look at the mean of the features. The means are of the range 100,10 and 1000 for feat1, feat2, feat3 respectively. There is a huge variation in the dataset.\n",
    "\n",
    "While applying Machine Learning Algorithms, we prefer to keep the range of the features in the same range. Hence we use normalization of data.\n",
    "\n",
    "We bring all the data in a small range which is close to same for all the features.\n",
    "\n",
    "For this tutorial, we will be using **Linear Scaling**. In this type of normalization, we replace every data in a column by the following :\n",
    "\n",
    "**val = (val - min)/(max - min)**\n",
    "\n",
    "where \n",
    "\n",
    "val = values in column\n",
    "\n",
    "max = maximum value in column\n",
    "\n",
    "min = minimum value in column\n",
    "\n",
    "\n",
    " There is another method known as **Z-score** in which we use the following formula:\n",
    "\n",
    " **val = (val - mean)/std**\n",
    "\n",
    " where\n",
    "\n",
    " val = values in column\n",
    "\n",
    " mean = mean value of column\n",
    "\n",
    " std = standard deviation of column      \n",
    "\n",
    "Now let us implement Linear Scaling :"
   ]
  },
  {
   "cell_type": "code",
   "execution_count": null,
   "metadata": {
    "colab": {
     "base_uri": "https://localhost:8080/",
     "height": 195
    },
    "executionInfo": {
     "elapsed": 1152,
     "status": "ok",
     "timestamp": 1589884366672,
     "user": {
      "displayName": "Shammi Agarwal",
      "photoUrl": "https://lh3.googleusercontent.com/a-/AOh14GgbHOgxZTNv5x7BIQisE6DnR_zfW5EZxBTc4f0gWA=s64",
      "userId": "01723134255060233529"
     },
     "user_tz": -330
    },
    "id": "YHHninUsYnY6",
    "outputId": "a8246077-d77f-44ea-d2c2-b477a24394de"
   },
   "outputs": [
    {
     "data": {
      "text/html": [
       "<div>\n",
       "<style scoped>\n",
       "    .dataframe tbody tr th:only-of-type {\n",
       "        vertical-align: middle;\n",
       "    }\n",
       "\n",
       "    .dataframe tbody tr th {\n",
       "        vertical-align: top;\n",
       "    }\n",
       "\n",
       "    .dataframe thead th {\n",
       "        text-align: right;\n",
       "    }\n",
       "</style>\n",
       "<table border=\"1\" class=\"dataframe\">\n",
       "  <thead>\n",
       "    <tr style=\"text-align: right;\">\n",
       "      <th></th>\n",
       "      <th>feat1</th>\n",
       "      <th>feat2</th>\n",
       "      <th>feat3</th>\n",
       "      <th>feat4</th>\n",
       "      <th>Output</th>\n",
       "    </tr>\n",
       "  </thead>\n",
       "  <tbody>\n",
       "    <tr>\n",
       "      <th>0</th>\n",
       "      <td>0.349223</td>\n",
       "      <td>11.178533</td>\n",
       "      <td>1177.929685</td>\n",
       "      <td>E</td>\n",
       "      <td>-33.738798</td>\n",
       "    </tr>\n",
       "    <tr>\n",
       "      <th>1</th>\n",
       "      <td>0.558326</td>\n",
       "      <td>11.271211</td>\n",
       "      <td>1167.340693</td>\n",
       "      <td>E</td>\n",
       "      <td>-20.015269</td>\n",
       "    </tr>\n",
       "    <tr>\n",
       "      <th>2</th>\n",
       "      <td>0.236254</td>\n",
       "      <td>11.022370</td>\n",
       "      <td>1152.274100</td>\n",
       "      <td>D</td>\n",
       "      <td>-121.200909</td>\n",
       "    </tr>\n",
       "    <tr>\n",
       "      <th>3</th>\n",
       "      <td>0.417956</td>\n",
       "      <td>11.168655</td>\n",
       "      <td>1205.196633</td>\n",
       "      <td>D</td>\n",
       "      <td>-17.665275</td>\n",
       "    </tr>\n",
       "    <tr>\n",
       "      <th>4</th>\n",
       "      <td>0.774884</td>\n",
       "      <td>11.263845</td>\n",
       "      <td>1213.642301</td>\n",
       "      <td>D</td>\n",
       "      <td>29.058837</td>\n",
       "    </tr>\n",
       "  </tbody>\n",
       "</table>\n",
       "</div>"
      ],
      "text/plain": [
       "      feat1      feat2        feat3 feat4      Output\n",
       "0  0.349223  11.178533  1177.929685     E  -33.738798\n",
       "1  0.558326  11.271211  1167.340693     E  -20.015269\n",
       "2  0.236254  11.022370  1152.274100     D -121.200909\n",
       "3  0.417956  11.168655  1205.196633     D  -17.665275\n",
       "4  0.774884  11.263845  1213.642301     D   29.058837"
      ]
     },
     "execution_count": 21,
     "metadata": {
      "tags": []
     },
     "output_type": "execute_result"
    }
   ],
   "source": [
    "df['feat1'] = (df['feat1'] - df['feat1'].min())/(df['feat1'].max()-df['feat1'].min())\n",
    "df.head()"
   ]
  },
  {
   "cell_type": "code",
   "execution_count": null,
   "metadata": {
    "colab": {
     "base_uri": "https://localhost:8080/",
     "height": 195
    },
    "executionInfo": {
     "elapsed": 1281,
     "status": "ok",
     "timestamp": 1589884401304,
     "user": {
      "displayName": "Shammi Agarwal",
      "photoUrl": "https://lh3.googleusercontent.com/a-/AOh14GgbHOgxZTNv5x7BIQisE6DnR_zfW5EZxBTc4f0gWA=s64",
      "userId": "01723134255060233529"
     },
     "user_tz": -330
    },
    "id": "o7CzenCSfk4g",
    "outputId": "6d970156-62ba-4a9b-921e-c2a93b2c84b7"
   },
   "outputs": [
    {
     "data": {
      "text/html": [
       "<div>\n",
       "<style scoped>\n",
       "    .dataframe tbody tr th:only-of-type {\n",
       "        vertical-align: middle;\n",
       "    }\n",
       "\n",
       "    .dataframe tbody tr th {\n",
       "        vertical-align: top;\n",
       "    }\n",
       "\n",
       "    .dataframe thead th {\n",
       "        text-align: right;\n",
       "    }\n",
       "</style>\n",
       "<table border=\"1\" class=\"dataframe\">\n",
       "  <thead>\n",
       "    <tr style=\"text-align: right;\">\n",
       "      <th></th>\n",
       "      <th>feat1</th>\n",
       "      <th>feat2</th>\n",
       "      <th>feat3</th>\n",
       "      <th>feat4</th>\n",
       "      <th>Output</th>\n",
       "    </tr>\n",
       "  </thead>\n",
       "  <tbody>\n",
       "    <tr>\n",
       "      <th>0</th>\n",
       "      <td>0.349223</td>\n",
       "      <td>0.589267</td>\n",
       "      <td>1177.929685</td>\n",
       "      <td>E</td>\n",
       "      <td>-33.738798</td>\n",
       "    </tr>\n",
       "    <tr>\n",
       "      <th>1</th>\n",
       "      <td>0.558326</td>\n",
       "      <td>0.635606</td>\n",
       "      <td>1167.340693</td>\n",
       "      <td>E</td>\n",
       "      <td>-20.015269</td>\n",
       "    </tr>\n",
       "    <tr>\n",
       "      <th>2</th>\n",
       "      <td>0.236254</td>\n",
       "      <td>0.511185</td>\n",
       "      <td>1152.274100</td>\n",
       "      <td>D</td>\n",
       "      <td>-121.200909</td>\n",
       "    </tr>\n",
       "    <tr>\n",
       "      <th>3</th>\n",
       "      <td>0.417956</td>\n",
       "      <td>0.584327</td>\n",
       "      <td>1205.196633</td>\n",
       "      <td>D</td>\n",
       "      <td>-17.665275</td>\n",
       "    </tr>\n",
       "    <tr>\n",
       "      <th>4</th>\n",
       "      <td>0.774884</td>\n",
       "      <td>0.631923</td>\n",
       "      <td>1213.642301</td>\n",
       "      <td>D</td>\n",
       "      <td>29.058837</td>\n",
       "    </tr>\n",
       "  </tbody>\n",
       "</table>\n",
       "</div>"
      ],
      "text/plain": [
       "      feat1     feat2        feat3 feat4      Output\n",
       "0  0.349223  0.589267  1177.929685     E  -33.738798\n",
       "1  0.558326  0.635606  1167.340693     E  -20.015269\n",
       "2  0.236254  0.511185  1152.274100     D -121.200909\n",
       "3  0.417956  0.584327  1205.196633     D  -17.665275\n",
       "4  0.774884  0.631923  1213.642301     D   29.058837"
      ]
     },
     "execution_count": 23,
     "metadata": {
      "tags": []
     },
     "output_type": "execute_result"
    }
   ],
   "source": [
    "df['feat2'] = (df['feat2'] - df['feat2'].min())/(df['feat2'].max()-df['feat2'].min())\n",
    "df.head()"
   ]
  },
  {
   "cell_type": "code",
   "execution_count": null,
   "metadata": {
    "colab": {
     "base_uri": "https://localhost:8080/",
     "height": 195
    },
    "executionInfo": {
     "elapsed": 1167,
     "status": "ok",
     "timestamp": 1589884417551,
     "user": {
      "displayName": "Shammi Agarwal",
      "photoUrl": "https://lh3.googleusercontent.com/a-/AOh14GgbHOgxZTNv5x7BIQisE6DnR_zfW5EZxBTc4f0gWA=s64",
      "userId": "01723134255060233529"
     },
     "user_tz": -330
    },
    "id": "RszybjZdfmQB",
    "outputId": "54dd0f2d-186a-497e-845a-8e16abf266b1"
   },
   "outputs": [
    {
     "data": {
      "text/html": [
       "<div>\n",
       "<style scoped>\n",
       "    .dataframe tbody tr th:only-of-type {\n",
       "        vertical-align: middle;\n",
       "    }\n",
       "\n",
       "    .dataframe tbody tr th {\n",
       "        vertical-align: top;\n",
       "    }\n",
       "\n",
       "    .dataframe thead th {\n",
       "        text-align: right;\n",
       "    }\n",
       "</style>\n",
       "<table border=\"1\" class=\"dataframe\">\n",
       "  <thead>\n",
       "    <tr style=\"text-align: right;\">\n",
       "      <th></th>\n",
       "      <th>feat1</th>\n",
       "      <th>feat2</th>\n",
       "      <th>feat3</th>\n",
       "      <th>feat4</th>\n",
       "      <th>Output</th>\n",
       "    </tr>\n",
       "  </thead>\n",
       "  <tbody>\n",
       "    <tr>\n",
       "      <th>0</th>\n",
       "      <td>0.349223</td>\n",
       "      <td>0.589267</td>\n",
       "      <td>0.355859</td>\n",
       "      <td>E</td>\n",
       "      <td>-33.738798</td>\n",
       "    </tr>\n",
       "    <tr>\n",
       "      <th>1</th>\n",
       "      <td>0.558326</td>\n",
       "      <td>0.635606</td>\n",
       "      <td>0.334681</td>\n",
       "      <td>E</td>\n",
       "      <td>-20.015269</td>\n",
       "    </tr>\n",
       "    <tr>\n",
       "      <th>2</th>\n",
       "      <td>0.236254</td>\n",
       "      <td>0.511185</td>\n",
       "      <td>0.304548</td>\n",
       "      <td>D</td>\n",
       "      <td>-121.200909</td>\n",
       "    </tr>\n",
       "    <tr>\n",
       "      <th>3</th>\n",
       "      <td>0.417956</td>\n",
       "      <td>0.584327</td>\n",
       "      <td>0.410393</td>\n",
       "      <td>D</td>\n",
       "      <td>-17.665275</td>\n",
       "    </tr>\n",
       "    <tr>\n",
       "      <th>4</th>\n",
       "      <td>0.774884</td>\n",
       "      <td>0.631923</td>\n",
       "      <td>0.427285</td>\n",
       "      <td>D</td>\n",
       "      <td>29.058837</td>\n",
       "    </tr>\n",
       "  </tbody>\n",
       "</table>\n",
       "</div>"
      ],
      "text/plain": [
       "      feat1     feat2     feat3 feat4      Output\n",
       "0  0.349223  0.589267  0.355859     E  -33.738798\n",
       "1  0.558326  0.635606  0.334681     E  -20.015269\n",
       "2  0.236254  0.511185  0.304548     D -121.200909\n",
       "3  0.417956  0.584327  0.410393     D  -17.665275\n",
       "4  0.774884  0.631923  0.427285     D   29.058837"
      ]
     },
     "execution_count": 24,
     "metadata": {
      "tags": []
     },
     "output_type": "execute_result"
    }
   ],
   "source": [
    "df['feat3'] = (df['feat3'] - df['feat3'].min())/(df['feat3'].max()-df['feat3'].min())\n",
    "df.head()"
   ]
  },
  {
   "cell_type": "markdown",
   "metadata": {
    "id": "nNBWPV_8fw8C"
   },
   "source": [
    "Now we see that all the features have the same range (0,1). This helps in increasing the speed as well as the accuracy of the ML algorithm."
   ]
  },
  {
   "cell_type": "code",
   "execution_count": null,
   "metadata": {
    "colab": {
     "base_uri": "https://localhost:8080/",
     "height": 284
    },
    "executionInfo": {
     "elapsed": 1073,
     "status": "ok",
     "timestamp": 1589884544282,
     "user": {
      "displayName": "Shammi Agarwal",
      "photoUrl": "https://lh3.googleusercontent.com/a-/AOh14GgbHOgxZTNv5x7BIQisE6DnR_zfW5EZxBTc4f0gWA=s64",
      "userId": "01723134255060233529"
     },
     "user_tz": -330
    },
    "id": "miOuRidqY85o",
    "outputId": "41814637-42e3-4de6-c57b-daa6da836935"
   },
   "outputs": [
    {
     "data": {
      "text/html": [
       "<div>\n",
       "<style scoped>\n",
       "    .dataframe tbody tr th:only-of-type {\n",
       "        vertical-align: middle;\n",
       "    }\n",
       "\n",
       "    .dataframe tbody tr th {\n",
       "        vertical-align: top;\n",
       "    }\n",
       "\n",
       "    .dataframe thead th {\n",
       "        text-align: right;\n",
       "    }\n",
       "</style>\n",
       "<table border=\"1\" class=\"dataframe\">\n",
       "  <thead>\n",
       "    <tr style=\"text-align: right;\">\n",
       "      <th></th>\n",
       "      <th>feat1</th>\n",
       "      <th>feat2</th>\n",
       "      <th>feat3</th>\n",
       "      <th>Output</th>\n",
       "    </tr>\n",
       "  </thead>\n",
       "  <tbody>\n",
       "    <tr>\n",
       "      <th>count</th>\n",
       "      <td>500.000000</td>\n",
       "      <td>500.000000</td>\n",
       "      <td>500.000000</td>\n",
       "      <td>500.000000</td>\n",
       "    </tr>\n",
       "    <tr>\n",
       "      <th>mean</th>\n",
       "      <td>0.503285</td>\n",
       "      <td>0.476010</td>\n",
       "      <td>0.482372</td>\n",
       "      <td>0.166738</td>\n",
       "    </tr>\n",
       "    <tr>\n",
       "      <th>std</th>\n",
       "      <td>0.177190</td>\n",
       "      <td>0.169533</td>\n",
       "      <td>0.152876</td>\n",
       "      <td>117.199198</td>\n",
       "    </tr>\n",
       "    <tr>\n",
       "      <th>min</th>\n",
       "      <td>0.000000</td>\n",
       "      <td>0.000000</td>\n",
       "      <td>0.000000</td>\n",
       "      <td>-403.693521</td>\n",
       "    </tr>\n",
       "    <tr>\n",
       "      <th>25%</th>\n",
       "      <td>0.383531</td>\n",
       "      <td>0.347056</td>\n",
       "      <td>0.380737</td>\n",
       "      <td>-74.842437</td>\n",
       "    </tr>\n",
       "    <tr>\n",
       "      <th>50%</th>\n",
       "      <td>0.503933</td>\n",
       "      <td>0.493647</td>\n",
       "      <td>0.480771</td>\n",
       "      <td>-4.272663</td>\n",
       "    </tr>\n",
       "    <tr>\n",
       "      <th>75%</th>\n",
       "      <td>0.634937</td>\n",
       "      <td>0.592732</td>\n",
       "      <td>0.584142</td>\n",
       "      <td>73.447639</td>\n",
       "    </tr>\n",
       "    <tr>\n",
       "      <th>max</th>\n",
       "      <td>1.000000</td>\n",
       "      <td>1.000000</td>\n",
       "      <td>1.000000</td>\n",
       "      <td>377.698893</td>\n",
       "    </tr>\n",
       "  </tbody>\n",
       "</table>\n",
       "</div>"
      ],
      "text/plain": [
       "            feat1       feat2       feat3      Output\n",
       "count  500.000000  500.000000  500.000000  500.000000\n",
       "mean     0.503285    0.476010    0.482372    0.166738\n",
       "std      0.177190    0.169533    0.152876  117.199198\n",
       "min      0.000000    0.000000    0.000000 -403.693521\n",
       "25%      0.383531    0.347056    0.380737  -74.842437\n",
       "50%      0.503933    0.493647    0.480771   -4.272663\n",
       "75%      0.634937    0.592732    0.584142   73.447639\n",
       "max      1.000000    1.000000    1.000000  377.698893"
      ]
     },
     "execution_count": 25,
     "metadata": {
      "tags": []
     },
     "output_type": "execute_result"
    }
   ],
   "source": [
    "df.describe()"
   ]
  },
  {
   "cell_type": "markdown",
   "metadata": {
    "id": "vGp60Ci3lmNt"
   },
   "source": [
    "# CATEGORICAL DATA"
   ]
  },
  {
   "cell_type": "markdown",
   "metadata": {
    "id": "CeQb2b7PgQXQ"
   },
   "source": [
    "Now let us take a look at feature 4. We see that this column is a category with the values ranging from A to F. Many machine learning algorithms cannot work with categorical data directly. So we should try and convert such data to integer type as well.\n",
    "\n",
    "For this purpouse, we will use **Label Encoder**. A Label Encoder allows the representation of categorical data to be more expressive. It converts the categorical data to numerical type which is easier to deal with from machine learning aspect. Let us see how to use this function :"
   ]
  },
  {
   "cell_type": "markdown",
   "metadata": {
    "id": "MHBiYGi1jHKL"
   },
   "source": [
    "Let us learn about a new library which is essential to Machine Learning : **sklearn**\n",
    "\n",
    "Scikit-learn is a free software machine learning library for the Python programming language. \n",
    "\n",
    "Label Encoder is a function available in preprocessing library of sklearn library. Let us see what it does :"
   ]
  },
  {
   "cell_type": "code",
   "execution_count": null,
   "metadata": {
    "colab": {
     "base_uri": "https://localhost:8080/",
     "height": 195
    },
    "executionInfo": {
     "elapsed": 1088,
     "status": "ok",
     "timestamp": 1589885660194,
     "user": {
      "displayName": "Shammi Agarwal",
      "photoUrl": "https://lh3.googleusercontent.com/a-/AOh14GgbHOgxZTNv5x7BIQisE6DnR_zfW5EZxBTc4f0gWA=s64",
      "userId": "01723134255060233529"
     },
     "user_tz": -330
    },
    "id": "AvDa-JSJhLJn",
    "outputId": "a35c12a3-6b4d-472a-f48a-ee72dba28a5c"
   },
   "outputs": [
    {
     "data": {
      "text/html": [
       "<div>\n",
       "<style scoped>\n",
       "    .dataframe tbody tr th:only-of-type {\n",
       "        vertical-align: middle;\n",
       "    }\n",
       "\n",
       "    .dataframe tbody tr th {\n",
       "        vertical-align: top;\n",
       "    }\n",
       "\n",
       "    .dataframe thead th {\n",
       "        text-align: right;\n",
       "    }\n",
       "</style>\n",
       "<table border=\"1\" class=\"dataframe\">\n",
       "  <thead>\n",
       "    <tr style=\"text-align: right;\">\n",
       "      <th></th>\n",
       "      <th>feat1</th>\n",
       "      <th>feat2</th>\n",
       "      <th>feat3</th>\n",
       "      <th>feat4</th>\n",
       "      <th>Output</th>\n",
       "    </tr>\n",
       "  </thead>\n",
       "  <tbody>\n",
       "    <tr>\n",
       "      <th>0</th>\n",
       "      <td>0.349223</td>\n",
       "      <td>0.589267</td>\n",
       "      <td>0.355859</td>\n",
       "      <td>4</td>\n",
       "      <td>-33.738798</td>\n",
       "    </tr>\n",
       "    <tr>\n",
       "      <th>1</th>\n",
       "      <td>0.558326</td>\n",
       "      <td>0.635606</td>\n",
       "      <td>0.334681</td>\n",
       "      <td>4</td>\n",
       "      <td>-20.015269</td>\n",
       "    </tr>\n",
       "    <tr>\n",
       "      <th>2</th>\n",
       "      <td>0.236254</td>\n",
       "      <td>0.511185</td>\n",
       "      <td>0.304548</td>\n",
       "      <td>3</td>\n",
       "      <td>-121.200909</td>\n",
       "    </tr>\n",
       "    <tr>\n",
       "      <th>3</th>\n",
       "      <td>0.417956</td>\n",
       "      <td>0.584327</td>\n",
       "      <td>0.410393</td>\n",
       "      <td>3</td>\n",
       "      <td>-17.665275</td>\n",
       "    </tr>\n",
       "    <tr>\n",
       "      <th>4</th>\n",
       "      <td>0.774884</td>\n",
       "      <td>0.631923</td>\n",
       "      <td>0.427285</td>\n",
       "      <td>3</td>\n",
       "      <td>29.058837</td>\n",
       "    </tr>\n",
       "  </tbody>\n",
       "</table>\n",
       "</div>"
      ],
      "text/plain": [
       "      feat1     feat2     feat3  feat4      Output\n",
       "0  0.349223  0.589267  0.355859      4  -33.738798\n",
       "1  0.558326  0.635606  0.334681      4  -20.015269\n",
       "2  0.236254  0.511185  0.304548      3 -121.200909\n",
       "3  0.417956  0.584327  0.410393      3  -17.665275\n",
       "4  0.774884  0.631923  0.427285      3   29.058837"
      ]
     },
     "execution_count": 29,
     "metadata": {
      "tags": []
     },
     "output_type": "execute_result"
    }
   ],
   "source": [
    "from sklearn.preprocessing import LabelEncoder\n",
    "labelencoder_feat4 = LabelEncoder()\n",
    "df['feat4'] = labelencoder_feat4.fit_transform(df['feat4'])\n",
    "df.head()"
   ]
  },
  {
   "cell_type": "markdown",
   "metadata": {
    "id": "afg8iMAZkhQN"
   },
   "source": [
    "Let us look at the description of the dataset :"
   ]
  },
  {
   "cell_type": "code",
   "execution_count": null,
   "metadata": {
    "colab": {
     "base_uri": "https://localhost:8080/",
     "height": 284
    },
    "executionInfo": {
     "elapsed": 1198,
     "status": "ok",
     "timestamp": 1589885693194,
     "user": {
      "displayName": "Shammi Agarwal",
      "photoUrl": "https://lh3.googleusercontent.com/a-/AOh14GgbHOgxZTNv5x7BIQisE6DnR_zfW5EZxBTc4f0gWA=s64",
      "userId": "01723134255060233529"
     },
     "user_tz": -330
    },
    "id": "b9_zZxEFklWT",
    "outputId": "31ec9ce9-29ac-4e80-a9d4-3e9cabe9f558"
   },
   "outputs": [
    {
     "data": {
      "text/html": [
       "<div>\n",
       "<style scoped>\n",
       "    .dataframe tbody tr th:only-of-type {\n",
       "        vertical-align: middle;\n",
       "    }\n",
       "\n",
       "    .dataframe tbody tr th {\n",
       "        vertical-align: top;\n",
       "    }\n",
       "\n",
       "    .dataframe thead th {\n",
       "        text-align: right;\n",
       "    }\n",
       "</style>\n",
       "<table border=\"1\" class=\"dataframe\">\n",
       "  <thead>\n",
       "    <tr style=\"text-align: right;\">\n",
       "      <th></th>\n",
       "      <th>feat1</th>\n",
       "      <th>feat2</th>\n",
       "      <th>feat3</th>\n",
       "      <th>feat4</th>\n",
       "      <th>Output</th>\n",
       "    </tr>\n",
       "  </thead>\n",
       "  <tbody>\n",
       "    <tr>\n",
       "      <th>count</th>\n",
       "      <td>500.000000</td>\n",
       "      <td>500.000000</td>\n",
       "      <td>500.000000</td>\n",
       "      <td>500.000000</td>\n",
       "      <td>500.000000</td>\n",
       "    </tr>\n",
       "    <tr>\n",
       "      <th>mean</th>\n",
       "      <td>0.503285</td>\n",
       "      <td>0.476010</td>\n",
       "      <td>0.482372</td>\n",
       "      <td>3.402000</td>\n",
       "      <td>0.166738</td>\n",
       "    </tr>\n",
       "    <tr>\n",
       "      <th>std</th>\n",
       "      <td>0.177190</td>\n",
       "      <td>0.169533</td>\n",
       "      <td>0.152876</td>\n",
       "      <td>1.162367</td>\n",
       "      <td>117.199198</td>\n",
       "    </tr>\n",
       "    <tr>\n",
       "      <th>min</th>\n",
       "      <td>0.000000</td>\n",
       "      <td>0.000000</td>\n",
       "      <td>0.000000</td>\n",
       "      <td>0.000000</td>\n",
       "      <td>-403.693521</td>\n",
       "    </tr>\n",
       "    <tr>\n",
       "      <th>25%</th>\n",
       "      <td>0.383531</td>\n",
       "      <td>0.347056</td>\n",
       "      <td>0.380737</td>\n",
       "      <td>3.000000</td>\n",
       "      <td>-74.842437</td>\n",
       "    </tr>\n",
       "    <tr>\n",
       "      <th>50%</th>\n",
       "      <td>0.503933</td>\n",
       "      <td>0.493647</td>\n",
       "      <td>0.480771</td>\n",
       "      <td>3.000000</td>\n",
       "      <td>-4.272663</td>\n",
       "    </tr>\n",
       "    <tr>\n",
       "      <th>75%</th>\n",
       "      <td>0.634937</td>\n",
       "      <td>0.592732</td>\n",
       "      <td>0.584142</td>\n",
       "      <td>4.000000</td>\n",
       "      <td>73.447639</td>\n",
       "    </tr>\n",
       "    <tr>\n",
       "      <th>max</th>\n",
       "      <td>1.000000</td>\n",
       "      <td>1.000000</td>\n",
       "      <td>1.000000</td>\n",
       "      <td>6.000000</td>\n",
       "      <td>377.698893</td>\n",
       "    </tr>\n",
       "  </tbody>\n",
       "</table>\n",
       "</div>"
      ],
      "text/plain": [
       "            feat1       feat2       feat3       feat4      Output\n",
       "count  500.000000  500.000000  500.000000  500.000000  500.000000\n",
       "mean     0.503285    0.476010    0.482372    3.402000    0.166738\n",
       "std      0.177190    0.169533    0.152876    1.162367  117.199198\n",
       "min      0.000000    0.000000    0.000000    0.000000 -403.693521\n",
       "25%      0.383531    0.347056    0.380737    3.000000  -74.842437\n",
       "50%      0.503933    0.493647    0.480771    3.000000   -4.272663\n",
       "75%      0.634937    0.592732    0.584142    4.000000   73.447639\n",
       "max      1.000000    1.000000    1.000000    6.000000  377.698893"
      ]
     },
     "execution_count": 30,
     "metadata": {
      "tags": []
     },
     "output_type": "execute_result"
    }
   ],
   "source": [
    "df.describe()"
   ]
  },
  {
   "cell_type": "markdown",
   "metadata": {
    "id": "PLcUbNVwknoQ"
   },
   "source": [
    "We see that the minimum value for feat4 is 0 and the maximum is 6. As we already knew that the feat4 previously contained 7 different categories from A to F. Label Encoder converts all those categories to numerical values which are easy to access. \n",
    "\n",
    "There are many other possible changes we can make in data transformation but it is highly dependent on the dataset. Not everything is useful everywhere."
   ]
  },
  {
   "cell_type": "markdown",
   "metadata": {
    "id": "v13355xbBqDO"
   },
   "source": [
    "\n",
    "That is all for tutorial 3. Now you can move on to the assignment.\n",
    "\n",
    "\n",
    "\n",
    "---\n",
    "\n",
    "---\n",
    "\n"
   ]
  }
 ],
 "metadata": {
  "colab": {
   "collapsed_sections": [],
   "name": "Tutorial3.ipynb",
   "provenance": []
  },
  "kernelspec": {
   "display_name": "Python 3",
   "language": "python",
   "name": "python3"
  },
  "language_info": {
   "codemirror_mode": {
    "name": "ipython",
    "version": 3
   },
   "file_extension": ".py",
   "mimetype": "text/x-python",
   "name": "python",
   "nbconvert_exporter": "python",
   "pygments_lexer": "ipython3",
   "version": "3.8.5"
  }
 },
 "nbformat": 4,
 "nbformat_minor": 1
}
