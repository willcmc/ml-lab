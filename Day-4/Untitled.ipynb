{
 "cells": [
  {
   "cell_type": "markdown",
   "id": "ca953c40",
   "metadata": {},
   "source": [
    "# Lin Regr"
   ]
  },
  {
   "cell_type": "code",
   "execution_count": 14,
   "id": "09f20ee1",
   "metadata": {},
   "outputs": [],
   "source": [
    "import numpy as np\n",
    "import matplotlib.pyplot as plt\n",
    "\n",
    "class Point:\n",
    "    x = None\n",
    "    y = None\n",
    "    def __init__(self, x, y):\n",
    "        self.x = x\n",
    "        self.y = y\n",
    "    def __add__(self, other):\n",
    "        return Point(self.x+other.x, self.y+other.y)\n",
    "    def __sub__(self, other):\n",
    "        return Point(self.x-other.x, self.y-other.y)\n",
    "    def __mul__(self, other):\n",
    "        return Point(other*self.x, other*self.y)\n",
    "    def __truediv__(self, other):\n",
    "        return Point(self.x/other, self.y/other)\n",
    "    def __abs__(self):\n",
    "        return (self.x**2 + self.y**2)**0.5"
   ]
  },
  {
   "cell_type": "code",
   "execution_count": 15,
   "id": "187a0dbd",
   "metadata": {},
   "outputs": [],
   "source": [
    "X1 = np.array([-2, 3, 3, -1, 0, -4, -2, 6, 5])\n",
    "X2 = np.array([0, 1, 4, -3, 3, 2, -2, 6, -5])\n",
    "Y = np.array([1, 2, 2, 1, 2, 1, 1, 2, 1])"
   ]
  },
  {
   "cell_type": "code",
   "execution_count": 16,
   "id": "b46b24ec",
   "metadata": {},
   "outputs": [
    {
     "data": {
      "text/plain": [
       "<matplotlib.collections.PathCollection at 0x7f9b575f8490>"
      ]
     },
     "execution_count": 16,
     "metadata": {},
     "output_type": "execute_result"
    },
    {
     "data": {
      "image/png": "[encoded data removed]",
      "text/plain": [
       "<Figure size 432x288 with 1 Axes>"
      ]
     },
     "metadata": {
      "needs_background": "light"
     },
     "output_type": "display_data"
    }
   ],
   "source": [
    "colormap = np.array(['r', 'g', 'b'])\n",
    "plt.scatter(X1, X2, c=colormap[Y])\n",
    "plt.scatter(0,2, c='r')"
   ]
  },
  {
   "cell_type": "code",
   "execution_count": 22,
   "id": "c367c4c5",
   "metadata": {},
   "outputs": [
    {
     "data": {
      "text/plain": [
       "array([2.82842712, 3.16227766, 3.60555128, 5.09901951, 1.        ,\n",
       "       4.        , 4.47213595, 7.21110255, 8.60232527])"
      ]
     },
     "execution_count": 22,
     "metadata": {},
     "output_type": "execute_result"
    }
   ],
   "source": [
    "abs(Point(X1, X2) - Point(0, 2))"
   ]
  },
  {
   "cell_type": "code",
   "execution_count": 51,
   "id": "2eaa0581",
   "metadata": {},
   "outputs": [
    {
     "data": {
      "text/plain": [
       "array([-2, -1, -4, -2])"
      ]
     },
     "execution_count": 51,
     "metadata": {},
     "output_type": "execute_result"
    }
   ],
   "source": [
    "onex = np.array([x1 for (x1, x2, y) in zip(X1, X2, Y) if y == 1])\n",
    "onex[0:-1]"
   ]
  },
  {
   "cell_type": "code",
   "execution_count": 54,
   "id": "bea8c70a",
   "metadata": {},
   "outputs": [
    {
     "data": {
      "text/plain": [
       "3.3541019662496847"
      ]
     },
     "execution_count": 54,
     "metadata": {},
     "output_type": "execute_result"
    }
   ],
   "source": [
    "abs(Point(3, 3.5)- Point(0, 2))"
   ]
  }
 ],
 "metadata": {
  "kernelspec": {
   "display_name": "Python 3",
   "language": "python",
   "name": "python3"
  },
  "language_info": {
   "codemirror_mode": {
    "name": "ipython",
    "version": 3
   },
   "file_extension": ".py",
   "mimetype": "text/x-python",
   "name": "python",
   "nbconvert_exporter": "python",
   "pygments_lexer": "ipython3",
   "version": "3.8.8"
  }
 },
 "nbformat": 4,
 "nbformat_minor": 5
}
