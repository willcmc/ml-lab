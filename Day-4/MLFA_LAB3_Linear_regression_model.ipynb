{
 "cells": [
  {
   "cell_type": "markdown",
   "metadata": {},
   "source": [
    "# Linear Regression\n",
    "\n",
    "In statistics, linear regression is a linear approach to modeling the relationship between a scalar output label (or dependent variable) and one or more explanatory variables (or features/attributes). The case of one explanatory variable is called a simple linear regression.\n",
    "\n",
    "We will understand it with a practice example, Steps we are going to follow are :\n",
    "1. Importing important libraries\n",
    "2. Importing the data\n",
    "3. Feature selection\n",
    "4. Data visualization\n",
    "5. Finding weight (slope) and bias (intercept) of the fitting line for single feature variable\n",
    "6. Visualizing the fitted line\n",
    "7. Finding weight (slope) and bias (intercept) of the fitting line for multiple feature variables\n",
    "8. Comparing fitted line obtained from scikit-learn model (A machine learning library)"
   ]
  },
  {
   "cell_type": "markdown",
   "metadata": {},
   "source": [
    "**1. Importing important libraries**"
   ]
  },
  {
   "cell_type": "code",
   "execution_count": 1,
   "metadata": {},
   "outputs": [],
   "source": [
    "# IMporting importatnt libraries\n",
    "import pandas as pd\n",
    "import numpy as np\n",
    "import matplotlib.pyplot as plt\n",
    "\n",
    "# Importing model\n",
    "from sklearn.linear_model import LinearRegression"
   ]
  },
  {
   "cell_type": "markdown",
   "metadata": {},
   "source": [
    "**2. Importing Data.**\n"
   ]
  },
  {
   "cell_type": "markdown",
   "metadata": {},
   "source": [
    "Importing the required data for the prediction of sales is taken from kaggle.\n",
    "\n",
    "Link to the dataset --> https://www.kaggle.com/sazid28/advertising.csv"
   ]
  },
  {
   "cell_type": "code",
   "execution_count": 2,
   "metadata": {},
   "outputs": [
    {
     "data": {
      "text/html": [
       "<div>\n",
       "<style scoped>\n",
       "    .dataframe tbody tr th:only-of-type {\n",
       "        vertical-align: middle;\n",
       "    }\n",
       "\n",
       "    .dataframe tbody tr th {\n",
       "        vertical-align: top;\n",
       "    }\n",
       "\n",
       "    .dataframe thead th {\n",
       "        text-align: right;\n",
       "    }\n",
       "</style>\n",
       "<table border=\"1\" class=\"dataframe\">\n",
       "  <thead>\n",
       "    <tr style=\"text-align: right;\">\n",
       "      <th></th>\n",
       "      <th>TV</th>\n",
       "      <th>radio</th>\n",
       "      <th>newspaper</th>\n",
       "      <th>sales</th>\n",
       "    </tr>\n",
       "  </thead>\n",
       "  <tbody>\n",
       "    <tr>\n",
       "      <th>1</th>\n",
       "      <td>230.1</td>\n",
       "      <td>37.8</td>\n",
       "      <td>69.2</td>\n",
       "      <td>22.1</td>\n",
       "    </tr>\n",
       "    <tr>\n",
       "      <th>2</th>\n",
       "      <td>44.5</td>\n",
       "      <td>39.3</td>\n",
       "      <td>45.1</td>\n",
       "      <td>10.4</td>\n",
       "    </tr>\n",
       "    <tr>\n",
       "      <th>3</th>\n",
       "      <td>17.2</td>\n",
       "      <td>45.9</td>\n",
       "      <td>69.3</td>\n",
       "      <td>9.3</td>\n",
       "    </tr>\n",
       "    <tr>\n",
       "      <th>4</th>\n",
       "      <td>151.5</td>\n",
       "      <td>41.3</td>\n",
       "      <td>58.5</td>\n",
       "      <td>18.5</td>\n",
       "    </tr>\n",
       "    <tr>\n",
       "      <th>5</th>\n",
       "      <td>180.8</td>\n",
       "      <td>10.8</td>\n",
       "      <td>58.4</td>\n",
       "      <td>12.9</td>\n",
       "    </tr>\n",
       "  </tbody>\n",
       "</table>\n",
       "</div>"
      ],
      "text/plain": [
       "      TV  radio  newspaper  sales\n",
       "1  230.1   37.8       69.2   22.1\n",
       "2   44.5   39.3       45.1   10.4\n",
       "3   17.2   45.9       69.3    9.3\n",
       "4  151.5   41.3       58.5   18.5\n",
       "5  180.8   10.8       58.4   12.9"
      ]
     },
     "execution_count": 2,
     "metadata": {},
     "output_type": "execute_result"
    }
   ],
   "source": [
    "#read the file and store as dataframe\n",
    "data = pd.read_csv('Advertising.csv', index_col=[0])\n",
    "\n",
    "# Let's see the top five rows of the dataset\n",
    "data.head()"
   ]
  },
  {
   "cell_type": "markdown",
   "metadata": {},
   "source": [
    "**3. Feature Selection.**"
   ]
  },
  {
   "cell_type": "code",
   "execution_count": 3,
   "metadata": {},
   "outputs": [
    {
     "data": {
      "text/plain": [
       "Index(['TV', 'radio', 'newspaper', 'sales'], dtype='object')"
      ]
     },
     "execution_count": 3,
     "metadata": {},
     "output_type": "execute_result"
    }
   ],
   "source": [
    "# Columns we have\n",
    "data.columns"
   ]
  },
  {
   "cell_type": "code",
   "execution_count": 4,
   "metadata": {},
   "outputs": [
    {
     "data": {
      "text/html": [
       "<div>\n",
       "<style scoped>\n",
       "    .dataframe tbody tr th:only-of-type {\n",
       "        vertical-align: middle;\n",
       "    }\n",
       "\n",
       "    .dataframe tbody tr th {\n",
       "        vertical-align: top;\n",
       "    }\n",
       "\n",
       "    .dataframe thead th {\n",
       "        text-align: right;\n",
       "    }\n",
       "</style>\n",
       "<table border=\"1\" class=\"dataframe\">\n",
       "  <thead>\n",
       "    <tr style=\"text-align: right;\">\n",
       "      <th></th>\n",
       "      <th>TV</th>\n",
       "      <th>sales</th>\n",
       "    </tr>\n",
       "  </thead>\n",
       "  <tbody>\n",
       "    <tr>\n",
       "      <th>1</th>\n",
       "      <td>230.1</td>\n",
       "      <td>22.1</td>\n",
       "    </tr>\n",
       "    <tr>\n",
       "      <th>2</th>\n",
       "      <td>44.5</td>\n",
       "      <td>10.4</td>\n",
       "    </tr>\n",
       "    <tr>\n",
       "      <th>3</th>\n",
       "      <td>17.2</td>\n",
       "      <td>9.3</td>\n",
       "    </tr>\n",
       "    <tr>\n",
       "      <th>4</th>\n",
       "      <td>151.5</td>\n",
       "      <td>18.5</td>\n",
       "    </tr>\n",
       "    <tr>\n",
       "      <th>5</th>\n",
       "      <td>180.8</td>\n",
       "      <td>12.9</td>\n",
       "    </tr>\n",
       "  </tbody>\n",
       "</table>\n",
       "</div>"
      ],
      "text/plain": [
       "      TV  sales\n",
       "1  230.1   22.1\n",
       "2   44.5   10.4\n",
       "3   17.2    9.3\n",
       "4  151.5   18.5\n",
       "5  180.8   12.9"
      ]
     },
     "execution_count": 4,
     "metadata": {},
     "output_type": "execute_result"
    }
   ],
   "source": [
    "# First we will implement a single variable linear regression model\n",
    "# Let's take Tv  as our variable to find the sales\n",
    "\n",
    "price_data=data[['TV', 'sales']]\n",
    "price_data.head()"
   ]
  },
  {
   "cell_type": "markdown",
   "metadata": {},
   "source": [
    "**4. Data Visualization.**\n",
    "\n",
    "Before we start with the linear regression, we should check if our dependent and independent variables are linearly related or not. We can check it on scatter plot:"
   ]
  },
  {
   "cell_type": "code",
   "execution_count": 6,
   "metadata": {},
   "outputs": [
    {
     "data": {
      "image/png": "[encoded data removed]",
      "text/plain": [
       "<Figure size 432x288 with 1 Axes>"
      ]
     },
     "metadata": {
      "needs_background": "light"
     },
     "output_type": "display_data"
    }
   ],
   "source": [
    "#Let's distribute our house price data set into X(Feature variable, area of the house) and y(the price of the house) \n",
    "\n",
    "X=price_data['TV']\n",
    "y=price_data['sales']\n",
    "\n",
    "# Let's plot it and try to visualize the data\n",
    "# Plot blank figure with the axis\n",
    "figure, ax =plt.subplots()\n",
    "\n",
    "# Plot a scatter plot for feature\n",
    "ax.scatter(X, y, color='red')\n",
    "\n",
    "# Set titles and axis labels\n",
    "ax.set_title('Effect of advertisement on sales')\n",
    "ax.set_xlabel('Advertisement on TV')\n",
    "ax.set_ylabel('sales')\n",
    "\n",
    "# Set legends\n",
    "ax.legend(labels=['(TV, sales)']);"
   ]
  },
  {
   "cell_type": "markdown",
   "metadata": {},
   "source": [
    "From the above graph, we can see that feature variable is linearly related with dependent variable"
   ]
  },
  {
   "cell_type": "markdown",
   "metadata": {},
   "source": [
    "**5. Finding weight(slope) and constant(intercept) of the fitting line.**"
   ]
  },
  {
   "cell_type": "markdown",
   "metadata": {},
   "source": [
    "To find the fitting line `y=w*X + b` we have to find out the value of `w`( the slope of the line) and `b` (intercept of the line) by the Least Square fitting method:\n",
    "\n",
    "![title](least_square_fitting.jpg)\n",
    "\n",
    "Where:\n",
    "* `x bar` = mean of X\n",
    "* `y bar` = mean of y"
   ]
  },
  {
   "cell_type": "markdown",
   "metadata": {},
   "source": [
    "$$W = \\frac{\\Sigma_{i=1}^n(x_i-\\bar{x})(y_i-\\bar{y})}{\\Sigma_{i=1}^n(x_i-\\bar x)^2}$$"
   ]
  },
  {
   "cell_type": "code",
   "execution_count": 15,
   "metadata": {},
   "outputs": [
    {
     "name": "stdout",
     "output_type": "stream",
     "text": [
      "The value of slope(w): 0.05\n",
      "The value of intercept(b): 7.03\n"
     ]
    }
   ],
   "source": [
    "# finding X_mean and y_mean\n",
    "\n",
    "X_mean = X.mean()\n",
    "y_mean = y.mean()\n",
    "\n",
    "# finding th value of m and c\n",
    "denominator=0\n",
    "numerator=0\n",
    "for i in range(1, len(X)+1):\n",
    "    numerator+=(X[i] - X_mean)*(y[i] - y_mean)\n",
    "    denominator+=(X[i] - X_mean)**2\n",
    "    \n",
    "w = numerator/denominator\n",
    "b = y_mean - X_mean * w\n",
    "print(f'The value of slope(w): {w*1:.2f}')  # value of slope(m) upto two decimal place\n",
    "print(f'The value of intercept(b): {b:.2f}')  # value of intercept(c) upto two decimal place"
   ]
  },
  {
   "cell_type": "markdown",
   "metadata": {},
   "source": [
    "**6. Visualizing fitting line.**"
   ]
  },
  {
   "cell_type": "code",
   "execution_count": 16,
   "metadata": {
    "scrolled": true
   },
   "outputs": [
    {
     "data": {
      "image/png": "[encoded data removed]",
      "text/plain": [
       "<Figure size 432x288 with 1 Axes>"
      ]
     },
     "metadata": {
      "needs_background": "light"
     },
     "output_type": "display_data"
    }
   ],
   "source": [
    "# Let's draw the fitting line into the House pricing dataset.\n",
    "# Make a figure with axis \n",
    "figure1, ax =plt.subplots()\n",
    "\n",
    "# Plot feature\n",
    "ax.scatter(X, y, color='red')\n",
    "\n",
    "# Set title and axis labels\n",
    "ax.set_title('Effect of advertisement on sales')\n",
    "ax.set_xlabel('Advertisement on TV')\n",
    "ax.set_ylabel('sales')\n",
    "\n",
    "# Plot fitting line\n",
    "y_axis = w* X + b\n",
    "ax.plot(X, y_axis)\n",
    "\n",
    "# Set Legends\n",
    "ax.legend(labels=['fitting line', 'scatter plot']);"
   ]
  },
  {
   "cell_type": "markdown",
   "metadata": {},
   "source": [
    "**7. Finding weights and constants for multi-variable Linear regression problem using vector formulation**"
   ]
  },
  {
   "cell_type": "code",
   "execution_count": 17,
   "metadata": {
    "scrolled": true
   },
   "outputs": [],
   "source": [
    "#importing data\n",
    "data1=data[['TV', 'radio', 'newspaper']]\n",
    "\n",
    "# including a column of one to find the value of intercept simultaneously\n",
    "data1['ones']=pd.DataFrame([1]*(len(data)+1));\n",
    "#data1.head()"
   ]
  },
  {
   "cell_type": "code",
   "execution_count": 18,
   "metadata": {},
   "outputs": [],
   "source": [
    "# converting into array form to do matrix multiplication to find out weights using the vector method.\n",
    "X=np.array(data1)\n",
    "y=np.array(data['sales'])"
   ]
  },
  {
   "cell_type": "markdown",
   "metadata": {},
   "source": [
    "Mathemtical formulation for finding out weights for the 3 features is:\n",
    "\n",
    "![title](images.png)\n",
    "\n",
    "and then the prediction can be calculated as\n",
    "\n",
    "![title](images2.png)\n"
   ]
  },
  {
   "cell_type": "code",
   "execution_count": 19,
   "metadata": {},
   "outputs": [],
   "source": [
    "# vector multiplication to find weight vector\n",
    "w = np.linalg.inv(np.transpose(X).dot(X)).dot(np.transpose(X)).dot(np.transpose(y))\n",
    "#print(w)\n",
    "#print(X)"
   ]
  },
  {
   "cell_type": "code",
   "execution_count": null,
   "metadata": {},
   "outputs": [],
   "source": []
  },
  {
   "cell_type": "code",
   "execution_count": 20,
   "metadata": {
    "scrolled": true
   },
   "outputs": [
    {
     "name": "stdout",
     "output_type": "stream",
     "text": [
      "weight(w) vector for our multi feature variables is [ 1.88530017e-01 -1.03749304e-03  2.93888937e+00]\n",
      "intercept(b) vector for our multi feature variables is 0.05\n"
     ]
    }
   ],
   "source": [
    "print(f'weight(w) vector for our multi feature variables is {w[1:]}')\n",
    "print(f'intercept(b) vector for our multi feature variables is {w[0]:.2f}')"
   ]
  },
  {
   "cell_type": "code",
   "execution_count": 23,
   "metadata": {
    "scrolled": true
   },
   "outputs": [],
   "source": [
    "# Predicting y from the calculated weight and intercept\n",
    "y_pred1 = X.dot(np.transpose(w))"
   ]
  },
  {
   "cell_type": "code",
   "execution_count": 27,
   "metadata": {},
   "outputs": [
    {
     "data": {
      "text/plain": [
       "array([20.52397441, 12.33785482, 12.30767078, 17.59782951, 13.18867186])"
      ]
     },
     "execution_count": 27,
     "metadata": {},
     "output_type": "execute_result"
    }
   ],
   "source": [
    "y_pred1[:5]"
   ]
  },
  {
   "cell_type": "markdown",
   "metadata": {},
   "source": [
    "you cn find about R2 score from this website:\n",
    "https://www.britannica.com/science/coefficient-of-determination"
   ]
  },
  {
   "cell_type": "code",
   "execution_count": 20,
   "metadata": {
    "scrolled": true
   },
   "outputs": [
    {
     "name": "stdout",
     "output_type": "stream",
     "text": [
      "accuracy obtained is 89.72%\n"
     ]
    }
   ],
   "source": [
    "# finding the accuracy\n",
    "from sklearn.metrics import r2_score\n",
    "print(f'accuracy obtained is {r2_score(y, y_pred1)*100:.2f}%')"
   ]
  },
  {
   "cell_type": "markdown",
   "metadata": {},
   "source": [
    "**8. comparing fitting line obtained from scikit-learn model (A machine learning library)**\n",
    "\n",
    "**Linear regression with single feature variable**"
   ]
  },
  {
   "cell_type": "code",
   "execution_count": 33,
   "metadata": {
    "scrolled": true
   },
   "outputs": [
    {
     "name": "stdout",
     "output_type": "stream",
     "text": [
      "Accuracy we obtain from the model is 61.19%\n"
     ]
    },
    {
     "data": {
      "image/png": "[encoded data removed]",
      "text/plain": [
       "<Figure size 432x288 with 1 Axes>"
      ]
     },
     "metadata": {
      "needs_background": "light"
     },
     "output_type": "display_data"
    }
   ],
   "source": [
    "# setting a model\n",
    "model1 = LinearRegression()\n",
    "\n",
    "X=data['TV']\n",
    "#print(X[:5])\n",
    "\n",
    "# reshaped 1-D 'X'\n",
    "X = np.array(X)\n",
    "\n",
    "#print(X[:5])\n",
    "X = X.reshape(-1, 1)  \n",
    "\n",
    "#print(X[:5])\n",
    "# Fitting the data into model\n",
    "model1.fit(X, y)\n",
    "\n",
    "#Evaluate our model\n",
    "print(f'Accuracy we obtain from the model is {model1.score(X, y)*100:.2f}%')\n",
    "# predicting y value\n",
    "\n",
    "y_pred2 = model1.predict(X)\n",
    "\n",
    "# plot our predicted price we getting as y_pred with old x we should get the same plot\n",
    "\n",
    "figure2, ax = plt.subplots()\n",
    "ax.scatter(X, y, color='red')\n",
    "ax.plot(X, y_pred2)\n",
    "ax.set_xlabel('No. of Advertisement on TV')\n",
    "ax.set_ylabel('sales')\n",
    "ax.legend(labels=['fitting line', 'scatter plot']);"
   ]
  },
  {
   "cell_type": "markdown",
   "metadata": {},
   "source": [
    "**Multi-variable linear regression using scikit-learn library**\n",
    "\n",
    "Here we are going to do a practice problem on multivariate features using machine learning libraries:"
   ]
  },
  {
   "cell_type": "code",
   "execution_count": 23,
   "metadata": {
    "scrolled": true
   },
   "outputs": [
    {
     "data": {
      "text/html": [
       "<div>\n",
       "<style scoped>\n",
       "    .dataframe tbody tr th:only-of-type {\n",
       "        vertical-align: middle;\n",
       "    }\n",
       "\n",
       "    .dataframe tbody tr th {\n",
       "        vertical-align: top;\n",
       "    }\n",
       "\n",
       "    .dataframe thead th {\n",
       "        text-align: right;\n",
       "    }\n",
       "</style>\n",
       "<table border=\"1\" class=\"dataframe\">\n",
       "  <thead>\n",
       "    <tr style=\"text-align: right;\">\n",
       "      <th></th>\n",
       "      <th>TV</th>\n",
       "      <th>radio</th>\n",
       "      <th>newspaper</th>\n",
       "      <th>sales</th>\n",
       "    </tr>\n",
       "  </thead>\n",
       "  <tbody>\n",
       "    <tr>\n",
       "      <th>1</th>\n",
       "      <td>230.1</td>\n",
       "      <td>37.8</td>\n",
       "      <td>69.2</td>\n",
       "      <td>22.1</td>\n",
       "    </tr>\n",
       "    <tr>\n",
       "      <th>2</th>\n",
       "      <td>44.5</td>\n",
       "      <td>39.3</td>\n",
       "      <td>45.1</td>\n",
       "      <td>10.4</td>\n",
       "    </tr>\n",
       "    <tr>\n",
       "      <th>3</th>\n",
       "      <td>17.2</td>\n",
       "      <td>45.9</td>\n",
       "      <td>69.3</td>\n",
       "      <td>9.3</td>\n",
       "    </tr>\n",
       "    <tr>\n",
       "      <th>4</th>\n",
       "      <td>151.5</td>\n",
       "      <td>41.3</td>\n",
       "      <td>58.5</td>\n",
       "      <td>18.5</td>\n",
       "    </tr>\n",
       "    <tr>\n",
       "      <th>5</th>\n",
       "      <td>180.8</td>\n",
       "      <td>10.8</td>\n",
       "      <td>58.4</td>\n",
       "      <td>12.9</td>\n",
       "    </tr>\n",
       "  </tbody>\n",
       "</table>\n",
       "</div>"
      ],
      "text/plain": [
       "      TV  radio  newspaper  sales\n",
       "1  230.1   37.8       69.2   22.1\n",
       "2   44.5   39.3       45.1   10.4\n",
       "3   17.2   45.9       69.3    9.3\n",
       "4  151.5   41.3       58.5   18.5\n",
       "5  180.8   10.8       58.4   12.9"
      ]
     },
     "execution_count": 23,
     "metadata": {},
     "output_type": "execute_result"
    }
   ],
   "source": [
    "# obtaining data\n",
    "sales_data = pd.read_csv('Advertising.csv', index_col=[0])\n",
    "sales_data.head()"
   ]
  },
  {
   "cell_type": "code",
   "execution_count": 24,
   "metadata": {},
   "outputs": [
    {
     "data": {
      "text/plain": [
       "Index(['TV', 'radio', 'newspaper', 'sales'], dtype='object')"
      ]
     },
     "execution_count": 24,
     "metadata": {},
     "output_type": "execute_result"
    }
   ],
   "source": [
    "sales_data.columns"
   ]
  },
  {
   "cell_type": "code",
   "execution_count": 26,
   "metadata": {},
   "outputs": [
    {
     "name": "stdout",
     "output_type": "stream",
     "text": [
      "1. Distribution of the feature variables:\n"
     ]
    },
    {
     "data": {
      "image/png": "[encoded data removed]",
      "text/plain": [
       "<Figure size 432x288 with 4 Axes>"
      ]
     },
     "metadata": {
      "needs_background": "light"
     },
     "output_type": "display_data"
    },
    {
     "name": "stdout",
     "output_type": "stream",
     "text": [
      "2. Accuracy from the Linear regression model: 89.94%\n"
     ]
    }
   ],
   "source": [
    "# Now we take Area(SqFt), Number of bedroom(Bedrooms) and  Number of bathrooms(Bathrooms) as our feature varibales\n",
    "\n",
    "feature_variable = sales_data[['TV', 'radio', 'newspaper']]\n",
    "\n",
    "# Let's see the distribution of the feature variable though histogram plot.\n",
    "print('1. Distribution of the feature variables:')\n",
    "feature_variable.hist()\n",
    "plt.show()\n",
    "\n",
    "# Price of the house\n",
    "sales = sales_data[['sales']]\n",
    "\n",
    "# We set our X and y variable\n",
    "X=feature_variable\n",
    "y=sales\n",
    "\n",
    "#set a particular random variable so that answer obtained can be the same for everyone and everytime\n",
    "np.random.seed(42)\n",
    "\n",
    "# spliting the data into train data and test data\n",
    "from sklearn.model_selection import train_test_split\n",
    "X_train, X_test, y_train, y_test = train_test_split(X, y, test_size = 0.2)\n",
    "\n",
    "# fitting our data into model\n",
    "from sklearn.linear_model import LinearRegression\n",
    "model2=LinearRegression()\n",
    "model2.fit(X_train, y_train)\n",
    "\n",
    "# Evaluating model\n",
    "print(f'2. Accuracy of the Linear regression model: {model2.score(X_test, y_test)*100:.2f}%' )"
   ]
  }
 ],
 "metadata": {
  "kernelspec": {
   "display_name": "Python 3",
   "language": "python",
   "name": "python3"
  },
  "language_info": {
   "codemirror_mode": {
    "name": "ipython",
    "version": 3
   },
   "file_extension": ".py",
   "mimetype": "text/x-python",
   "name": "python",
   "nbconvert_exporter": "python",
   "pygments_lexer": "ipython3",
   "version": "3.8.8"
  }
 },
 "nbformat": 4,
 "nbformat_minor": 2
}
